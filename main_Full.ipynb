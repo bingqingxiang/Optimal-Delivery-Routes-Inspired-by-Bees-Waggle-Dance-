{
 "cells": [
  {
   "cell_type": "code",
   "execution_count": 1,
   "metadata": {
    "collapsed": true
   },
   "outputs": [],
   "source": [
    "import random\n",
    "import copy    # array-copying convenience\n",
    "import sys     # max float\n",
    "import matplotlib.pyplot as plt\n",
    "import networkx as nx\n",
    "import numpy as np\n",
    "import math\n",
    "from  beesAlgorithm import * \n",
    "from  Trail import * "
   ]
  },
  {
   "cell_type": "code",
   "execution_count": 2,
   "metadata": {
    "collapsed": true
   },
   "outputs": [],
   "source": [
    "#input \n",
    "#number of nodes = number of cities       nc = 20\n",
    "#number of scout bees                     ns = 100\n",
    "#number of elite sites                    ne = int(ns * 0.1)\n",
    "#recruited bees for elite sites          nre = 2\n",
    "#number of best sites                     nb = int(ns * 0.15)\n",
    "#recruited bees for remaining best sites nrb = 1\n",
    "#The total artificial bee n = ne· nre + (nb - ne)· nrb + ns\n",
    "#max_epochs =1000"
   ]
  },
  {
   "cell_type": "code",
   "execution_count": 3,
   "metadata": {},
   "outputs": [
    {
     "data": {
      "image/png": "[encoded data removed]",
      "text/plain": [
       "<Figure size 432x288 with 1 Axes>"
      ]
     },
     "metadata": {},
     "output_type": "display_data"
    }
   ],
   "source": [
    "# Create Map\n",
    "numberOfNode=20\n",
    "random.seed(1)\n",
    "xPosition=random.sample(range(0, 100),numberOfNode)\n",
    "random.seed(2)\n",
    "yPosition=random.sample(range(0, 100),numberOfNode)\n",
    "CityMap=createMap(xPosition,yPosition,numberOfNode);"
   ]
  },
  {
   "cell_type": "code",
   "execution_count": null,
   "metadata": {
    "collapsed": true
   },
   "outputs": [],
   "source": [
    "#get distance of node i and j\n",
    "#=distance2Node(0,1,xPosition,yPosition)\n",
    "#print(d)\n",
    "\n",
    "#test draw graph\n",
    "#path=[j for j in range(20)]\n",
    "#print(path)\n",
    "#pathLength(xPosition,yPosition,path)\n",
    "#createGraph(xPosition,yPosition,numberOfNode,path);\n",
    "#plt.show()"
   ]
  },
  {
   "cell_type": "code",
   "execution_count": null,
   "metadata": {},
   "outputs": [
    {
     "name": "stdout",
     "output_type": "stream",
     "text": [
      "num_cities :  20\n",
      "number of scout bees:  40\n",
      "max_epochs :  100\n"
     ]
    }
   ],
   "source": [
    "#one time \n",
    "num_cities = numberOfNode\n",
    "ns = 40 #number of scout bees\n",
    "max_epochs =100\n",
    "print(\"num_cities : \" , num_cities)\n",
    "print(\"number of scout bees: \" , ns)\n",
    "print(\"max_epochs : \" , max_epochs)\n",
    "result=BeesAlgo(xPosition,yPosition,num_cities,ns, max_epochs)# save plot\n",
    "#print(result.shape)\n",
    "np.save(\"result.npy\",result)"
   ]
  },
  {
   "cell_type": "markdown",
   "metadata": {},
   "source": [
    "print(result[0:30])\n",
    "plt.plot(range(0,max_epochs),result[0:max_epochs])\n",
    "plt.show()"
   ]
  },
  {
   "cell_type": "markdown",
   "metadata": {
    "collapsed": true
   },
   "source": [
    "#Thousands time\n",
    "num_cities = numberOfNode\n",
    "ns = 100 #number of scout bees 20\n",
    "max_epochs =1000\n",
    "n_trail=1000\n",
    "l=np.zeros(max_epochs)\n",
    "for trail in range(n_trail):\n",
    "    l=l+TrailBeesAlgo(xPosition,yPosition,num_cities,ns, max_epochs)\n",
    "    #print(l.shape)\n",
    "    print(trail)\n",
    "trail_result=l/n_trail\n",
    "np.save(\"trail1000.npy\",trail_result)"
   ]
  },
  {
   "cell_type": "code",
   "execution_count": null,
   "metadata": {},
   "outputs": [],
   "source": [
    "plt.plot(result)\n",
    "plt.show()"
   ]
  },
  {
   "cell_type": "markdown",
   "metadata": {
    "collapsed": true
   },
   "source": [
    "ns=100\n",
    "ne=int(ns * 0.1)\n",
    "nre=3\n",
    "nb=int(ns * 0.2)\n",
    "nrb=2\n",
    "print(nb) \n",
    "print(nb + (nb-ne)*(nrb-1))\n",
    "print(ne*nre + (nb-ne)*nrb)\n",
    "print(\"start\")\n",
    "for i in range(ns):# assign bees\n",
    "  if i < nb:#elite sites bees\n",
    "    print(\"i\",i)\n",
    "\n",
    "  elif i < nb + (nb-ne)*(nrb-1):\n",
    "    print(\"second\")\n",
    "    for j in range(1,nrb):\n",
    "      print(i,i-((nb-ne)*j))\n",
    "\n",
    "  elif i < ne*nre + (nb-ne)*nrb:\n",
    "    print(\"third\")\n",
    "    print(i,(i-(ne+(nb-ne)*nrb))%ne)\n",
    "    \n",
    "    \n",
    "  else:\n",
    "    print(i)"
   ]
  },
  {
   "cell_type": "code",
   "execution_count": null,
   "metadata": {
    "collapsed": true
   },
   "outputs": [],
   "source": []
  }
 ],
 "metadata": {
  "kernelspec": {
   "display_name": "Python 3",
   "language": "python",
   "name": "python3"
  },
  "language_info": {
   "codemirror_mode": {
    "name": "ipython",
    "version": 3
   },
   "file_extension": ".py",
   "mimetype": "text/x-python",
   "name": "python",
   "nbconvert_exporter": "python",
   "pygments_lexer": "ipython3",
   "version": "3.6.3"
  }
 },
 "nbformat": 4,
 "nbformat_minor": 2
}
